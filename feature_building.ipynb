{
 "cells": [
  {
   "cell_type": "code",
   "execution_count": 1,
   "metadata": {
    "collapsed": false
   },
   "outputs": [
    {
     "name": "stdout",
     "output_type": "stream",
     "text": [
      "Loading data ...\n",
      "Done loading data! 2177 data were loaded.\n"
     ]
    }
   ],
   "source": [
    "import pandas as pd\n",
    "import os\n",
    "from tqdm import tqdm\n",
    "import numpy as np\n",
    "from sklearn.preprocessing import LabelEncoder\n",
    "\n",
    "data_folder = '/home/thebatou/Documents/Uni_Potsdam/Competitive_Data_Analysis'\n",
    "print 'Loading data ...'\n",
    "data = pd.read_csv(os.path.join(data_folder, 'final_data.csv'), index_col=0)\n",
    "print 'Done loading data! {} data were loaded.'.format(data.shape[0])"
   ]
  },
  {
   "cell_type": "code",
   "execution_count": 2,
   "metadata": {
    "collapsed": true
   },
   "outputs": [],
   "source": [
    "data.loc[835,'region'] = 'NA'\n",
    "data.loc[1232,'region'] = 'NA'\n",
    "data.loc[1839,'region'] = 'NA'\n",
    "data.loc[1993,'region'] = 'NA'\n",
    "data['funded'] = data['funded_at'] != '-1'"
   ]
  },
  {
   "cell_type": "code",
   "execution_count": 3,
   "metadata": {
    "collapsed": false,
    "scrolled": true
   },
   "outputs": [
    {
     "data": {
      "text/plain": [
       "loan_identifier                                                  E4ESQ31PV\n",
       "nominal_interest_rate                                                 1115\n",
       "term                                                          term_6_weeks\n",
       "purpose                                                         investment\n",
       "project_description      I need to make some investments but need to co...\n",
       "borrower_identifier                                            18TFGM41GTH\n",
       "borrower_rating                                                          B\n",
       "employment                                                   self_employed\n",
       "region                                                                  DE\n",
       "facebook                                                              none\n",
       "twitter                                                               none\n",
       "paypal                                                           connected\n",
       "ebay                                                                  none\n",
       "linkedin                                                              none\n",
       "published_at                                     2013-06-21 15:24:55 +0200\n",
       "funded_at                                        2013-06-21 17:06:27 +0200\n",
       "status                                                          fully_paid\n",
       "amount_requested                                                 100000000\n",
       "amount_funded                                                    100000000\n",
       "issuer_id                                                                1\n",
       "fraudulent                                                           False\n",
       "address_lat                                                       52.54066\n",
       "address_lng                                                       13.41792\n",
       "net_income_cents                                                    320000\n",
       "currency                                                               EUR\n",
       "rates_count                                                              1\n",
       "rates_paid                                                               1\n",
       "base_currency                                                          btc\n",
       "location                                                           Germany\n",
       "prices                                                            2145.164\n",
       "funded                                                                True\n",
       "Name: 0, dtype: object"
      ]
     },
     "execution_count": 3,
     "metadata": {},
     "output_type": "execute_result"
    }
   ],
   "source": [
    "data.ix[0]"
   ]
  },
  {
   "cell_type": "code",
   "execution_count": 4,
   "metadata": {
    "collapsed": false,
    "scrolled": true
   },
   "outputs": [
    {
     "data": {
      "text/plain": [
       "(2177, 16)"
      ]
     },
     "execution_count": 4,
     "metadata": {},
     "output_type": "execute_result"
    }
   ],
   "source": [
    "categorical_feature = ['loan_identifier', 'borrower_identifier', 'term', 'purpose', 'borrower_rating', 'employment', 'region', 'facebook', 'twitter',\n",
    "                       'paypal', 'ebay', 'linkedin', 'currency', 'base_currency', 'location', 'funded']#, 'status']\n",
    "transformed_data = pd.DataFrame()\n",
    "for feature in categorical_feature:\n",
    "    le = LabelEncoder()\n",
    "    le.fit(np.unique(data[feature]).tolist())\n",
    "#    print list(le.classes_)\n",
    "    s = pd.Series(le.transform(data[feature].tolist()))\n",
    "    s.name = feature\n",
    "    transformed_data = pd.concat([transformed_data, s], axis=1)\n",
    "transformed_data.shape"
   ]
  },
  {
   "cell_type": "code",
   "execution_count": 5,
   "metadata": {
    "collapsed": false,
    "scrolled": true
   },
   "outputs": [],
   "source": [
    "from datetime import datetime\n",
    "from pandas import to_datetime\n",
    "from datetime import timedelta\n",
    "# Extracting publication date\n",
    "published_date = data['published_at']\n",
    "published_date = published_date.str.rsplit(' ', expand=True, n=1)\n",
    "published_date = published_date.drop(1, axis=1)\n",
    "# Exctracting funding date\n",
    "funded_date = data['funded_at']\n",
    "funded_date = funded_date.str.rsplit(' ', expand=True, n=1)\n",
    "funded_date = funded_date.drop(1, axis=1)\n",
    "funded_date[funded_date[0]=='-1'] = pd.Timestamp.max.strftime('%Y-%m-%d %H:%M:%S')\n",
    "\n",
    "published_date = to_datetime(published_date[0], format='%Y-%m-%d %H:%M:%S')\n",
    "funded_date = to_datetime(funded_date[0], format='%Y-%m-%d %H:%M:%S')\n",
    "diff_date_pub_fund = funded_date - published_date\n",
    "#print diff_date_pub_fund[diff_date_pub_fund>timedelta(days=90000)].shape\n",
    "\n",
    "diff_date_pub_fund = diff_date_pub_fund.dt.days\n",
    "\n",
    "data['time_between_published_funded'] = diff_date_pub_fund\n",
    "transformed_data['time_between_published_funded'] = diff_date_pub_fund"
   ]
  },
  {
   "cell_type": "code",
   "execution_count": 6,
   "metadata": {
    "collapsed": false
   },
   "outputs": [
    {
     "data": {
      "text/plain": [
       "(2177, 28)"
      ]
     },
     "execution_count": 6,
     "metadata": {},
     "output_type": "execute_result"
    }
   ],
   "source": [
    "data['ratio_requested_funded'] = data['amount_funded']/data['amount_requested']\n",
    "transformed_data['ratio_requested_funded'] = data['amount_funded']/data['amount_requested']\n",
    "transformed_data['amount_funded'] = data['amount_requested']\n",
    "transformed_data['amount_funded'] = data['amount_funded']\n",
    "transformed_data['address_lat']= data['address_lat']\n",
    "transformed_data['address_lng']= data['address_lng']\n",
    "transformed_data['net_income_cents']= data['net_income_cents']\n",
    "transformed_data['rates_paid']= data['rates_paid']\n",
    "transformed_data['rates_count']= data['rates_count']\n",
    "transformed_data['prices']= data['prices']\n",
    "transformed_data['portion_average_salary'] = data['net_income_cents']/data['prices']\n",
    "transformed_data['nominal_interest_rate']= data['nominal_interest_rate']\n",
    "transformed_data['status']= data['status']\n",
    "transformed_data.shape"
   ]
  },
  {
   "cell_type": "code",
   "execution_count": 7,
   "metadata": {
    "collapsed": false
   },
   "outputs": [
    {
     "name": "stdout",
     "output_type": "stream",
     "text": [
      "(2177, 33)\n",
      "Index([u'loan_identifier', u'nominal_interest_rate', u'term', u'purpose',\n",
      "       u'project_description', u'borrower_identifier', u'borrower_rating',\n",
      "       u'employment', u'region', u'facebook', u'twitter', u'paypal', u'ebay',\n",
      "       u'linkedin', u'published_at', u'funded_at', u'status',\n",
      "       u'amount_requested', u'amount_funded', u'issuer_id', u'fraudulent',\n",
      "       u'address_lat', u'address_lng', u'net_income_cents', u'currency',\n",
      "       u'rates_count', u'rates_paid', u'base_currency', u'location', u'prices',\n",
      "       u'funded', u'time_between_published_funded', u'ratio_requested_funded'],\n",
      "      dtype='object')\n",
      "\n",
      "loan_identifier                      2088\n",
      "borrower_identifier                   485\n",
      "term                                    3\n",
      "purpose                                 6\n",
      "borrower_rating                         5\n",
      "employment                              3\n",
      "region                                 14\n",
      "facebook                                1\n",
      "twitter                                 1\n",
      "paypal                                  1\n",
      "ebay                                    1\n",
      "linkedin                                1\n",
      "currency                               14\n",
      "base_currency                           0\n",
      "location                               21\n",
      "funded                                  0\n",
      "time_between_published_funded       90869\n",
      "ratio_requested_funded              0.004\n",
      "amount_funded                    20000000\n",
      "address_lat                            -1\n",
      "address_lng                            -1\n",
      "net_income_cents                     5000\n",
      "rates_paid                              0\n",
      "rates_count                             0\n",
      "prices                           2145.164\n",
      "portion_average_salary           2.330824\n",
      "nominal_interest_rate                3332\n",
      "status                            expired\n",
      "Name: 10, dtype: object\n"
     ]
    }
   ],
   "source": [
    "print data.shape\n",
    "print data.columns\n",
    "print ''\n",
    "print transformed_data.ix[10]\n",
    "transformed_data.to_csv(path_or_buf='/home/thebatou/Documents/Uni_Potsdam/Competitive_Data_Analysis/transformed_data.csv', encoding='utf-8')"
   ]
  }
 ],
 "metadata": {
  "kernelspec": {
   "display_name": "Python 2",
   "language": "python",
   "name": "python2"
  },
  "language_info": {
   "codemirror_mode": {
    "name": "ipython",
    "version": 2
   },
   "file_extension": ".py",
   "mimetype": "text/x-python",
   "name": "python",
   "nbconvert_exporter": "python",
   "pygments_lexer": "ipython2",
   "version": "2.7.10"
  }
 },
 "nbformat": 4,
 "nbformat_minor": 0
}
